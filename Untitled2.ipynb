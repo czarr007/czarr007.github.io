{
 "cells": [
  {
   "cell_type": "code",
   "execution_count": 1,
   "id": "63baed91",
   "metadata": {},
   "outputs": [],
   "source": [
    "import pandas as pd\n",
    "import numpy as np\n",
    "from sklearn.model_selection import train_test_split\n",
    "from sklearn.ensemble import RandomForestClassifier\n",
    "from sklearn.linear_model import LogisticRegression\n",
    "from sklearn.metrics import accuracy_score, precision_score, recall_score, f1_score, roc_auc_score, confusion_matrix\n",
    "from sklearn.preprocessing import StandardScaler, LabelEncoder\n",
    "from sklearn.pipeline import make_pipeline\n"
   ]
  },
  {
   "cell_type": "code",
   "execution_count": 2,
   "id": "c2f8e50c",
   "metadata": {},
   "outputs": [],
   "source": [
    "df = pd.read_csv('creditcard.csv')"
   ]
  },
  {
   "cell_type": "code",
   "execution_count": 3,
   "id": "eecb47c3",
   "metadata": {},
   "outputs": [
    {
     "name": "stdout",
     "output_type": "stream",
     "text": [
      "Dataset Overview:\n",
      "   Time        V1        V2        V3        V4        V5        V6        V7  \\\n",
      "0   0.0 -1.359807 -0.072781  2.536347  1.378155 -0.338321  0.462388  0.239599   \n",
      "1   0.0  1.191857  0.266151  0.166480  0.448154  0.060018 -0.082361 -0.078803   \n",
      "2   1.0 -1.358354 -1.340163  1.773209  0.379780 -0.503198  1.800499  0.791461   \n",
      "3   1.0 -0.966272 -0.185226  1.792993 -0.863291 -0.010309  1.247203  0.237609   \n",
      "4   2.0 -1.158233  0.877737  1.548718  0.403034 -0.407193  0.095921  0.592941   \n",
      "\n",
      "         V8        V9  ...       V21       V22       V23       V24       V25  \\\n",
      "0  0.098698  0.363787  ... -0.018307  0.277838 -0.110474  0.066928  0.128539   \n",
      "1  0.085102 -0.255425  ... -0.225775 -0.638672  0.101288 -0.339846  0.167170   \n",
      "2  0.247676 -1.514654  ...  0.247998  0.771679  0.909412 -0.689281 -0.327642   \n",
      "3  0.377436 -1.387024  ... -0.108300  0.005274 -0.190321 -1.175575  0.647376   \n",
      "4 -0.270533  0.817739  ... -0.009431  0.798278 -0.137458  0.141267 -0.206010   \n",
      "\n",
      "        V26       V27       V28  Amount  Class  \n",
      "0 -0.189115  0.133558 -0.021053  149.62      0  \n",
      "1  0.125895 -0.008983  0.014724    2.69      0  \n",
      "2 -0.139097 -0.055353 -0.059752  378.66      0  \n",
      "3 -0.221929  0.062723  0.061458  123.50      0  \n",
      "4  0.502292  0.219422  0.215153   69.99      0  \n",
      "\n",
      "[5 rows x 31 columns]\n"
     ]
    }
   ],
   "source": [
    "print(\"Dataset Overview:\")\n",
    "print(df.head())"
   ]
  },
  {
   "cell_type": "code",
   "execution_count": 4,
   "id": "c3217b0f",
   "metadata": {},
   "outputs": [],
   "source": [
    "null_counts = df.isnull().sum()"
   ]
  },
  {
   "cell_type": "code",
   "execution_count": 5,
   "id": "17f59f0d",
   "metadata": {},
   "outputs": [
    {
     "data": {
      "text/plain": [
       "Time      0\n",
       "V1        0\n",
       "V2        0\n",
       "V3        0\n",
       "V4        0\n",
       "V5        0\n",
       "V6        0\n",
       "V7        0\n",
       "V8        0\n",
       "V9        0\n",
       "V10       0\n",
       "V11       0\n",
       "V12       0\n",
       "V13       0\n",
       "V14       0\n",
       "V15       0\n",
       "V16       0\n",
       "V17       0\n",
       "V18       0\n",
       "V19       0\n",
       "V20       0\n",
       "V21       0\n",
       "V22       0\n",
       "V23       0\n",
       "V24       0\n",
       "V25       0\n",
       "V26       0\n",
       "V27       0\n",
       "V28       0\n",
       "Amount    0\n",
       "Class     0\n",
       "dtype: int64"
      ]
     },
     "execution_count": 5,
     "metadata": {},
     "output_type": "execute_result"
    }
   ],
   "source": [
    "null_counts"
   ]
  },
  {
   "cell_type": "code",
   "execution_count": 6,
   "id": "816bca59",
   "metadata": {},
   "outputs": [
    {
     "data": {
      "text/plain": [
       "<AxesSubplot:title={'center':'Features'}>"
      ]
     },
     "execution_count": 6,
     "metadata": {},
     "output_type": "execute_result"
    },
    {
     "data": {
      "image/png": "[encoded data removed]",
      "text/plain": [
       "<Figure size 432x288 with 1 Axes>"
      ]
     },
     "metadata": {
      "needs_background": "light"
     },
     "output_type": "display_data"
    }
   ],
   "source": [
    "df[df.columns[1:-2]].plot(kind=\"box\", title=\"Features\")"
   ]
  },
  {
   "cell_type": "code",
   "execution_count": 7,
   "id": "bcb8ff94",
   "metadata": {},
   "outputs": [],
   "source": [
    "scaler = StandardScaler()"
   ]
  },
  {
   "cell_type": "code",
   "execution_count": 8,
   "id": "94bc70a9",
   "metadata": {},
   "outputs": [
    {
     "data": {
      "text/plain": [
       "0         0\n",
       "1         0\n",
       "2         0\n",
       "3         0\n",
       "4         0\n",
       "         ..\n",
       "284802    0\n",
       "284803    0\n",
       "284804    0\n",
       "284805    0\n",
       "284806    0\n",
       "Name: Class, Length: 284807, dtype: int64"
      ]
     },
     "execution_count": 8,
     "metadata": {},
     "output_type": "execute_result"
    }
   ],
   "source": [
    "y = df['Class']\n",
    "y"
   ]
  },
  {
   "cell_type": "code",
   "execution_count": 38,
   "id": "f99adc6b",
   "metadata": {},
   "outputs": [],
   "source": [
    "x =  df.drop(columns=['Class'])\n",
    "x_train, x_test, y_train, y_test = train_test_split(x, y, test_size = 0.2, random_state = 100)\n",
    "pipe = make_pipeline(scaler, LogisticRegression())\n",
    "pipe.fit(x_train, y_train)\n",
    "\n",
    "y_pred = pipe.predict(x_test)\n",
    "\n",
    "lr_results = pipe.score(x_test, y_test)\n",
    "lr_accuracy = accuracy_score(y_test, y_pred)\n",
    "lr_f1 = f1_score(y_test, y_pred)\n",
    "lr_precision = precision_score(y_test, y_pred)\n",
    "lr_recall = recall_score(y_test, y_pred)\n",
    "lr_roc_score = roc_auc_score(y_test, y_pred)\n",
    "lr_confusionmat = confusion_matrix(y_test, y_pred)"
   ]
  },
  {
   "cell_type": "code",
   "execution_count": 10,
   "id": "808c39e2",
   "metadata": {},
   "outputs": [
    {
     "data": {
      "text/plain": [
       "0.9990168884519505"
      ]
     },
     "execution_count": 10,
     "metadata": {},
     "output_type": "execute_result"
    }
   ],
   "source": [
    "lr_accuracy"
   ]
  },
  {
   "cell_type": "code",
   "execution_count": 11,
   "id": "dfe40a3c",
   "metadata": {},
   "outputs": [
    {
     "data": {
      "text/plain": [
       "0.6744186046511628"
      ]
     },
     "execution_count": 11,
     "metadata": {},
     "output_type": "execute_result"
    }
   ],
   "source": [
    "lr_f1"
   ]
  },
  {
   "cell_type": "code",
   "execution_count": 31,
   "id": "23fb100f",
   "metadata": {},
   "outputs": [
    {
     "data": {
      "text/plain": [
       "0.7631578947368421"
      ]
     },
     "execution_count": 31,
     "metadata": {},
     "output_type": "execute_result"
    }
   ],
   "source": [
    "lr_precision"
   ]
  },
  {
   "cell_type": "code",
   "execution_count": 36,
   "id": "0849d8e4",
   "metadata": {},
   "outputs": [
    {
     "data": {
      "text/plain": [
       "0.6041666666666666"
      ]
     },
     "execution_count": 36,
     "metadata": {},
     "output_type": "execute_result"
    }
   ],
   "source": [
    "lr_recall"
   ]
  },
  {
   "cell_type": "code",
   "execution_count": 39,
   "id": "4dcefbf8",
   "metadata": {},
   "outputs": [
    {
     "data": {
      "text/plain": [
       "0.8019250665306743"
      ]
     },
     "execution_count": 39,
     "metadata": {},
     "output_type": "execute_result"
    }
   ],
   "source": [
    "lr_roc_score"
   ]
  },
  {
   "cell_type": "code",
   "execution_count": 40,
   "id": "71294f3c",
   "metadata": {},
   "outputs": [
    {
     "data": {
      "text/plain": [
       "array([[56848,    18],\n",
       "       [   38,    58]], dtype=int64)"
      ]
     },
     "execution_count": 40,
     "metadata": {},
     "output_type": "execute_result"
    }
   ],
   "source": [
    "lr_confusionmat"
   ]
  },
  {
   "cell_type": "code",
   "execution_count": 92,
   "id": "f978475b",
   "metadata": {},
   "outputs": [],
   "source": [
    "pipe2 = make_pipeline(scaler, RandomForestClassifier())\n",
    "pipe2.fit(x_train, y_train)\n",
    "\n",
    "y_pred2 = pipe2.predict(x_test)\n",
    "\n",
    "rf_results = pipe2.score(x_test, y_test)\n",
    "rf_accuracy = accuracy_score(y_test, y_pred2)\n",
    "rf_f1 = f1_score(y_test, y_pred2)\n",
    "rf_precision = precision_score(y_test, y_pred2)\n",
    "rf_recall = recall_score(y_test, y_pred2)\n",
    "rf_roc_score = roc_auc_score(y_test, y_pred2)\n",
    "rf_confusionmat = confusion_matrix(y_test, y_pred2)"
   ]
  },
  {
   "cell_type": "code",
   "execution_count": 13,
   "id": "384356b0",
   "metadata": {},
   "outputs": [
    {
     "data": {
      "text/plain": [
       "0.9993328885923949"
      ]
     },
     "execution_count": 13,
     "metadata": {},
     "output_type": "execute_result"
    }
   ],
   "source": [
    "rf_accuracy"
   ]
  },
  {
   "cell_type": "code",
   "execution_count": 14,
   "id": "5a9a65fa",
   "metadata": {},
   "outputs": [
    {
     "data": {
      "text/plain": [
       "0.7816091954022988"
      ]
     },
     "execution_count": 14,
     "metadata": {},
     "output_type": "execute_result"
    }
   ],
   "source": [
    "rf_f1"
   ]
  },
  {
   "cell_type": "code",
   "execution_count": 93,
   "id": "73d9e02c",
   "metadata": {},
   "outputs": [
    {
     "data": {
      "text/plain": [
       "0.918918918918919"
      ]
     },
     "execution_count": 93,
     "metadata": {},
     "output_type": "execute_result"
    }
   ],
   "source": [
    "rf_precision"
   ]
  },
  {
   "cell_type": "code",
   "execution_count": 94,
   "id": "778722d5",
   "metadata": {},
   "outputs": [
    {
     "data": {
      "text/plain": [
       "0.7083333333333334"
      ]
     },
     "execution_count": 94,
     "metadata": {},
     "output_type": "execute_result"
    }
   ],
   "source": [
    "rf_recall"
   ]
  },
  {
   "cell_type": "code",
   "execution_count": 95,
   "id": "44e2f176",
   "metadata": {},
   "outputs": [
    {
     "data": {
      "text/plain": [
       "0.8541139110657804"
      ]
     },
     "execution_count": 95,
     "metadata": {},
     "output_type": "execute_result"
    }
   ],
   "source": [
    "rf_roc_score"
   ]
  },
  {
   "cell_type": "code",
   "execution_count": 96,
   "id": "a2a1a886",
   "metadata": {},
   "outputs": [
    {
     "data": {
      "text/plain": [
       "array([[56860,     6],\n",
       "       [   28,    68]], dtype=int64)"
      ]
     },
     "execution_count": 96,
     "metadata": {},
     "output_type": "execute_result"
    }
   ],
   "source": [
    "rf_confusionmat"
   ]
  },
  {
   "cell_type": "code",
   "execution_count": 73,
   "id": "ea2ce196",
   "metadata": {},
   "outputs": [],
   "source": [
    "from sklearn.svm import SVC\n",
    "pipe3 = make_pipeline(scaler, SVC())\n",
    "pipe3.fit(x_train, y_train)\n",
    "\n",
    "y_pred3 = pipe3.predict(x_test)\n",
    "\n",
    "svc_results = pipe3.score(x_test, y_test)\n",
    "svc_accuracy = accuracy_score(y_test, y_pred3)\n",
    "svc_f1 = f1_score(y_test, y_pred3)\n",
    "svc_precision = precision_score(y_test, y_pred3)\n",
    "svc_recall = recall_score(y_test, y_pred3)\n",
    "svc_roc_score = roc_auc_score(y_test, y_pred3)\n",
    "svc_confusionmat = confusion_matrix(y_test, y_pred3) "
   ]
  },
  {
   "cell_type": "code",
   "execution_count": 28,
   "id": "69c02a84",
   "metadata": {},
   "outputs": [
    {
     "data": {
      "text/plain": [
       "0.9992275552122467"
      ]
     },
     "execution_count": 28,
     "metadata": {},
     "output_type": "execute_result"
    }
   ],
   "source": [
    "svc_accuracy"
   ]
  },
  {
   "cell_type": "code",
   "execution_count": 17,
   "id": "866dd3f7",
   "metadata": {},
   "outputs": [
    {
     "data": {
      "text/plain": [
       "0.7215189873417721"
      ]
     },
     "execution_count": 17,
     "metadata": {},
     "output_type": "execute_result"
    }
   ],
   "source": [
    "svc_f1"
   ]
  },
  {
   "cell_type": "code",
   "execution_count": 74,
   "id": "9aefbd15",
   "metadata": {},
   "outputs": [
    {
     "data": {
      "text/plain": [
       "0.9193548387096774"
      ]
     },
     "execution_count": 74,
     "metadata": {},
     "output_type": "execute_result"
    }
   ],
   "source": [
    "svc_precision"
   ]
  },
  {
   "cell_type": "code",
   "execution_count": 75,
   "id": "7e75d89d",
   "metadata": {},
   "outputs": [
    {
     "data": {
      "text/plain": [
       "0.59375"
      ]
     },
     "execution_count": 75,
     "metadata": {},
     "output_type": "execute_result"
    }
   ],
   "source": [
    "svc_recall"
   ]
  },
  {
   "cell_type": "code",
   "execution_count": 76,
   "id": "5c56772a",
   "metadata": {},
   "outputs": [
    {
     "data": {
      "text/plain": [
       "0.7968310369992614"
      ]
     },
     "execution_count": 76,
     "metadata": {},
     "output_type": "execute_result"
    }
   ],
   "source": [
    "svc_roc_score"
   ]
  },
  {
   "cell_type": "code",
   "execution_count": 77,
   "id": "33d1973a",
   "metadata": {},
   "outputs": [
    {
     "data": {
      "text/plain": [
       "array([[56861,     5],\n",
       "       [   39,    57]], dtype=int64)"
      ]
     },
     "execution_count": 77,
     "metadata": {},
     "output_type": "execute_result"
    }
   ],
   "source": [
    "svc_confusionmat"
   ]
  },
  {
   "cell_type": "code",
   "execution_count": 78,
   "id": "6698eb6c",
   "metadata": {},
   "outputs": [],
   "source": [
    "from sklearn.tree import DecisionTreeClassifier\n",
    "pipe4 = make_pipeline(scaler, DecisionTreeClassifier())\n",
    "pipe4.fit(x_train, y_train)\n",
    "\n",
    "y_pred4 = pipe4.predict(x_test)\n",
    "\n",
    "DecisionTreeClassifier_results = pipe4.score(x_test, y_test)\n",
    "DecisionTreeClassifier_accuracy = accuracy_score(y_test, y_pred4)\n",
    "DecisionTreeClassifier_f1 = f1_score(y_test, y_pred4)\n",
    "DecisionTreeClassifier_precision = precision_score(y_test, y_pred4)\n",
    "DecisionTreeClassifier_recall = recall_score(y_test, y_pred4)\n",
    "DecisionTreeClassifier_roc_score = roc_auc_score(y_test, y_pred4)\n",
    "DecisionTreeClassifier_confusionmat = confusion_matrix(y_test, y_pred4)"
   ]
  },
  {
   "cell_type": "code",
   "execution_count": 19,
   "id": "34ca85b7",
   "metadata": {},
   "outputs": [
    {
     "data": {
      "text/plain": [
       "0.9989993328885924"
      ]
     },
     "execution_count": 19,
     "metadata": {},
     "output_type": "execute_result"
    }
   ],
   "source": [
    "DecisionTreeClassifier_accuracy"
   ]
  },
  {
   "cell_type": "code",
   "execution_count": 20,
   "id": "853c8c52",
   "metadata": {},
   "outputs": [
    {
     "data": {
      "text/plain": [
       "0.7135678391959799"
      ]
     },
     "execution_count": 20,
     "metadata": {},
     "output_type": "execute_result"
    }
   ],
   "source": [
    "DecisionTreeClassifier_f1"
   ]
  },
  {
   "cell_type": "code",
   "execution_count": 79,
   "id": "5af7d48c",
   "metadata": {},
   "outputs": [
    {
     "data": {
      "text/plain": [
       "0.696969696969697"
      ]
     },
     "execution_count": 79,
     "metadata": {},
     "output_type": "execute_result"
    }
   ],
   "source": [
    "DecisionTreeClassifier_precision"
   ]
  },
  {
   "cell_type": "code",
   "execution_count": 80,
   "id": "94a49c20",
   "metadata": {},
   "outputs": [
    {
     "data": {
      "text/plain": [
       "0.71875"
      ]
     },
     "execution_count": 80,
     "metadata": {},
     "output_type": "execute_result"
    }
   ],
   "source": [
    "DecisionTreeClassifier_recall"
   ]
  },
  {
   "cell_type": "code",
   "execution_count": 81,
   "id": "1a0ed33c",
   "metadata": {},
   "outputs": [
    {
     "data": {
      "text/plain": [
       "0.8591112219955686"
      ]
     },
     "execution_count": 81,
     "metadata": {},
     "output_type": "execute_result"
    }
   ],
   "source": [
    "DecisionTreeClassifier_roc_score"
   ]
  },
  {
   "cell_type": "code",
   "execution_count": 82,
   "id": "608c6aac",
   "metadata": {},
   "outputs": [
    {
     "data": {
      "text/plain": [
       "array([[56836,    30],\n",
       "       [   27,    69]], dtype=int64)"
      ]
     },
     "execution_count": 82,
     "metadata": {},
     "output_type": "execute_result"
    }
   ],
   "source": [
    "DecisionTreeClassifier_confusionmat"
   ]
  },
  {
   "cell_type": "code",
   "execution_count": 83,
   "id": "4eb408b1",
   "metadata": {},
   "outputs": [],
   "source": [
    "from sklearn.ensemble import GradientBoostingClassifier\n",
    "pipe5 = make_pipeline(scaler, GradientBoostingClassifier())\n",
    "pipe5.fit(x_train, y_train)\n",
    "\n",
    "y_pred5 = pipe5.predict(x_test)\n",
    "\n",
    "GradientBoostingClassifier_results = pipe5.score(x_test, y_test)\n",
    "GradientBoostingClassifier_accuracy = accuracy_score(y_test, y_pred5)\n",
    "GradientBoostingClassifier_f1 = f1_score(y_test, y_pred5)\n",
    "GradientBoostingClassifier_precision = precision_score(y_test, y_pred5)\n",
    "GradientBoostingClassifier_recall = recall_score(y_test, y_pred5)\n",
    "GradientBoostingClassifier_roc_score = roc_auc_score(y_test, y_pred5)\n",
    "GradientBoostingClassifier_confusionmat = confusion_matrix(y_test, y_pred5)"
   ]
  },
  {
   "cell_type": "code",
   "execution_count": 60,
   "id": "4db8c8ab",
   "metadata": {},
   "outputs": [
    {
     "data": {
      "text/plain": [
       "0.9989817773252344"
      ]
     },
     "execution_count": 60,
     "metadata": {},
     "output_type": "execute_result"
    }
   ],
   "source": [
    "GradientBoostingClassifier_accuracy"
   ]
  },
  {
   "cell_type": "code",
   "execution_count": 61,
   "id": "ef0e4b50",
   "metadata": {},
   "outputs": [
    {
     "data": {
      "text/plain": [
       "0.7100000000000002"
      ]
     },
     "execution_count": 61,
     "metadata": {},
     "output_type": "execute_result"
    }
   ],
   "source": [
    "GradientBoostingClassifier_f1"
   ]
  },
  {
   "cell_type": "code",
   "execution_count": 84,
   "id": "ae54f821",
   "metadata": {},
   "outputs": [
    {
     "data": {
      "text/plain": [
       "0.6826923076923077"
      ]
     },
     "execution_count": 84,
     "metadata": {},
     "output_type": "execute_result"
    }
   ],
   "source": [
    "GradientBoostingClassifier_precision "
   ]
  },
  {
   "cell_type": "code",
   "execution_count": 85,
   "id": "25e7ed0e",
   "metadata": {},
   "outputs": [
    {
     "data": {
      "text/plain": [
       "0.7395833333333334"
      ]
     },
     "execution_count": 85,
     "metadata": {},
     "output_type": "execute_result"
    }
   ],
   "source": [
    "GradientBoostingClassifier_recall"
   ]
  },
  {
   "cell_type": "code",
   "execution_count": 86,
   "id": "abcfb49e",
   "metadata": {},
   "outputs": [
    {
     "data": {
      "text/plain": [
       "0.8695015108617921"
      ]
     },
     "execution_count": 86,
     "metadata": {},
     "output_type": "execute_result"
    }
   ],
   "source": [
    "GradientBoostingClassifier_roc_score"
   ]
  },
  {
   "cell_type": "code",
   "execution_count": 87,
   "id": "71d9eac2",
   "metadata": {},
   "outputs": [
    {
     "data": {
      "text/plain": [
       "array([[56833,    33],\n",
       "       [   25,    71]], dtype=int64)"
      ]
     },
     "execution_count": 87,
     "metadata": {},
     "output_type": "execute_result"
    }
   ],
   "source": [
    "GradientBoostingClassifier_confusionmat"
   ]
  },
  {
   "cell_type": "code",
   "execution_count": 97,
   "id": "9b47b202",
   "metadata": {},
   "outputs": [],
   "source": [
    "from sklearn.neighbors import KNeighborsClassifier\n",
    "pipe6 = make_pipeline(scaler, KNeighborsClassifier())\n",
    "pipe6.fit(x_train, y_train)\n",
    "\n",
    "y_pred6 = pipe6.predict(x_test)\n",
    "\n",
    "KNeighborsClassifier_results = pipe5.score(x_test, y_test)\n",
    "KNeighborsClassifier_accuracy = accuracy_score(y_test, y_pred6)\n",
    "KNeighborsClassifier_f1 = f1_score(y_test, y_pred6)\n",
    "KNeighborsClassifier_precision = precision_score(y_test, y_pred6)\n",
    "KNeighborsClassifier_recall = recall_score(y_test, y_pred6)\n",
    "KNeighborsClassifier_roc_score = roc_auc_score(y_test, y_pred6)\n",
    "KNeighborsClassifier_confusionmat = confusion_matrix(y_test, y_pred6)"
   ]
  },
  {
   "cell_type": "code",
   "execution_count": 29,
   "id": "f7e960ee",
   "metadata": {},
   "outputs": [
    {
     "data": {
      "text/plain": [
       "0.9993153330290369"
      ]
     },
     "execution_count": 29,
     "metadata": {},
     "output_type": "execute_result"
    }
   ],
   "source": [
    "KNeighborsClassifier_accuracy"
   ]
  },
  {
   "cell_type": "code",
   "execution_count": 26,
   "id": "5b8d44e1",
   "metadata": {},
   "outputs": [
    {
     "data": {
      "text/plain": [
       "0.7796610169491525"
      ]
     },
     "execution_count": 26,
     "metadata": {},
     "output_type": "execute_result"
    }
   ],
   "source": [
    "KNeighborsClassifier_f1"
   ]
  },
  {
   "cell_type": "code",
   "execution_count": 98,
   "id": "708cc6c6",
   "metadata": {},
   "outputs": [
    {
     "data": {
      "text/plain": [
       "0.8518518518518519"
      ]
     },
     "execution_count": 98,
     "metadata": {},
     "output_type": "execute_result"
    }
   ],
   "source": [
    "KNeighborsClassifier_precision"
   ]
  },
  {
   "cell_type": "code",
   "execution_count": 1,
   "id": "3209979c",
   "metadata": {},
   "outputs": [
    {
     "ename": "NameError",
     "evalue": "name 'KNeighborsClassifier_recall' is not defined",
     "output_type": "error",
     "traceback": [
      "\u001b[1;31m---------------------------------------------------------------------------\u001b[0m",
      "\u001b[1;31mNameError\u001b[0m                                 Traceback (most recent call last)",
      "\u001b[1;32m<ipython-input-1-f51c18ce7f5b>\u001b[0m in \u001b[0;36m<module>\u001b[1;34m\u001b[0m\n\u001b[1;32m----> 1\u001b[1;33m \u001b[0mKNeighborsClassifier_recall\u001b[0m\u001b[1;33m\u001b[0m\u001b[1;33m\u001b[0m\u001b[0m\n\u001b[0m",
      "\u001b[1;31mNameError\u001b[0m: name 'KNeighborsClassifier_recall' is not defined"
     ]
    }
   ],
   "source": [
    "KNeighborsClassifier_recall"
   ]
  },
  {
   "cell_type": "code",
   "execution_count": 100,
   "id": "234cc201",
   "metadata": {},
   "outputs": [
    {
     "data": {
      "text/plain": [
       "0.8592694887982274"
      ]
     },
     "execution_count": 100,
     "metadata": {},
     "output_type": "execute_result"
    }
   ],
   "source": [
    "KNeighborsClassifier_roc_score"
   ]
  },
  {
   "cell_type": "code",
   "execution_count": 101,
   "id": "81cbf199",
   "metadata": {},
   "outputs": [
    {
     "data": {
      "text/plain": [
       "array([[56854,    12],\n",
       "       [   27,    69]], dtype=int64)"
      ]
     },
     "execution_count": 101,
     "metadata": {},
     "output_type": "execute_result"
    }
   ],
   "source": [
    "KNeighborsClassifier_confusionmat"
   ]
  }
 ],
 "metadata": {
  "kernelspec": {
   "display_name": "Python 3",
   "language": "python",
   "name": "python3"
  },
  "language_info": {
   "codemirror_mode": {
    "name": "ipython",
    "version": 3
   },
   "file_extension": ".py",
   "mimetype": "text/x-python",
   "name": "python",
   "nbconvert_exporter": "python",
   "pygments_lexer": "ipython3",
   "version": "3.8.8"
  }
 },
 "nbformat": 4,
 "nbformat_minor": 5
}
